{
 "cells": [
  {
   "cell_type": "code",
   "execution_count": 3,
   "metadata": {},
   "outputs": [
    {
     "ename": "ModuleNotFoundError",
     "evalue": "No module named 'cv2'",
     "output_type": "error",
     "traceback": [
      "\u001b[1;31m---------------------------------------------------------------------------\u001b[0m",
      "\u001b[1;31mModuleNotFoundError\u001b[0m                       Traceback (most recent call last)",
      "Input \u001b[1;32mIn [3]\u001b[0m, in \u001b[0;36m<cell line: 5>\u001b[1;34m()\u001b[0m\n\u001b[0;32m      3\u001b[0m \u001b[38;5;28;01mimport\u001b[39;00m \u001b[38;5;21;01mos\u001b[39;00m; os\u001b[38;5;241m.\u001b[39menviron[\u001b[38;5;124m'\u001b[39m\u001b[38;5;124mTF_CPP_MIN_LOG_LEVEL\u001b[39m\u001b[38;5;124m'\u001b[39m]\u001b[38;5;241m=\u001b[39m\u001b[38;5;124m'\u001b[39m\u001b[38;5;124m3\u001b[39m\u001b[38;5;124m'\u001b[39m\n\u001b[0;32m      4\u001b[0m os\u001b[38;5;241m.\u001b[39menviron[\u001b[38;5;124m'\u001b[39m\u001b[38;5;124mTF_FORCE_GPU_ALLOW_GROWTH\u001b[39m\u001b[38;5;124m'\u001b[39m] \u001b[38;5;241m=\u001b[39m \u001b[38;5;124m'\u001b[39m\u001b[38;5;124mtrue\u001b[39m\u001b[38;5;124m'\u001b[39m\n\u001b[1;32m----> 5\u001b[0m \u001b[38;5;28;01mimport\u001b[39;00m \u001b[38;5;21;01mcv2\u001b[39;00m; \u001b[38;5;28;01mimport\u001b[39;00m \u001b[38;5;21;01mnumpy\u001b[39;00m \u001b[38;5;28;01mas\u001b[39;00m \u001b[38;5;21;01mnp\u001b[39;00m; np\u001b[38;5;241m.\u001b[39mrandom\u001b[38;5;241m.\u001b[39mseed(\u001b[38;5;241m7\u001b[39m); \u001b[38;5;28;01mimport\u001b[39;00m \u001b[38;5;21;01msys\u001b[39;00m\n\u001b[0;32m      6\u001b[0m \u001b[38;5;28;01mimport\u001b[39;00m \u001b[38;5;21;01mtensorflow\u001b[39;00m\u001b[38;5;21;01m.\u001b[39;00m\u001b[38;5;21;01mkeras\u001b[39;00m \u001b[38;5;28;01mas\u001b[39;00m \u001b[38;5;21;01mkeras\u001b[39;00m; \u001b[38;5;28;01mfrom\u001b[39;00m \u001b[38;5;21;01mtensorflow\u001b[39;00m\u001b[38;5;21;01m.\u001b[39;00m\u001b[38;5;21;01mkeras\u001b[39;00m\u001b[38;5;21;01m.\u001b[39;00m\u001b[38;5;21;01mmodels\u001b[39;00m \u001b[38;5;28;01mimport\u001b[39;00m \u001b[38;5;241m*\u001b[39m\n\u001b[0;32m      7\u001b[0m \u001b[38;5;28;01mfrom\u001b[39;00m \u001b[38;5;21;01mtensorflow\u001b[39;00m\u001b[38;5;21;01m.\u001b[39;00m\u001b[38;5;21;01mkeras\u001b[39;00m\u001b[38;5;21;01m.\u001b[39;00m\u001b[38;5;21;01mlayers\u001b[39;00m \u001b[38;5;28;01mimport\u001b[39;00m \u001b[38;5;241m*\u001b[39m; \u001b[38;5;28;01mfrom\u001b[39;00m \u001b[38;5;21;01mtensorflow\u001b[39;00m\u001b[38;5;21;01m.\u001b[39;00m\u001b[38;5;21;01mkeras\u001b[39;00m\u001b[38;5;21;01m.\u001b[39;00m\u001b[38;5;21;01moptimizers\u001b[39;00m \u001b[38;5;28;01mimport\u001b[39;00m \u001b[38;5;241m*\u001b[39m\n",
      "\u001b[1;31mModuleNotFoundError\u001b[0m: No module named 'cv2'"
     ]
    }
   ],
   "source": [
    "\n",
    "#unet-train1.py\n",
    "#Treina rede unet para segmentacao semantica de eliret\n",
    "import os; os.environ['TF_CPP_MIN_LOG_LEVEL']='3'\n",
    "os.environ['TF_FORCE_GPU_ALLOW_GROWTH'] = 'true'\n",
    "import cv2; import numpy as np; np.random.seed(7); import sys\n",
    "import tensorflow.keras as keras; from tensorflow.keras.models import *\n",
    "from tensorflow.keras.layers import *; from tensorflow.keras.optimizers import *\n",
    "import matplotlib.pyplot as plt\n",
    "\n",
    "def impHistoria(history):\n",
    " print(history.history.keys())\n",
    " plt.plot(history.history['loss'])\n",
    " plt.plot(history.history['val_loss'])\n",
    " plt.title('model loss'); plt.ylabel('loss'); plt.xlabel('epoch')\n",
    " plt.legend(['train', 'test'], loc='upper left')\n",
    " plt.show()\n",
    "\n",
    "def leCsv(nomeDir,nomeArq):\n",
    " print(\"Lendo: \",nomeArq); arq=open(os.path.join(nomeDir,nomeArq),\"r\")\n",
    " lines=arq.readlines(); arq.close(); n=len(lines)\n",
    " nl,nc = 32,32;\n",
    " AX=np.empty((n,nl,nc),dtype='uint8'); AY=np.empty((n,nl,nc),dtype='uint8')\n",
    " i=0;\n",
    " for linha in lines:\n",
    "  linha=linha.strip('\\n'); linha=linha.split(';')\n",
    "  AX[i]=cv2.imread(os.path.join(nomeDir,linha[0]),0)\n",
    "  AY[i]=cv2.imread(os.path.join(nomeDir,linha[1]),0)\n",
    "  i=i+1\n",
    "\n",
    " ax= np.float32(AX)/255.0; ay= np.float32(AY)/255.0 #Entre 0 e +1\n",
    " ax = ax.reshape(n, nl, nc, 1); ay = ay.reshape(n, nl, nc, 1)\n",
    " return ax, ay\n",
    "\n",
    "def unet(input_size = (32,32,1)):\n",
    " n=32\n",
    " inputs = Input(input_size) #32x32\n",
    " conv2 = Conv2D(n, 3, activation = 'relu', padding = 'same' )(inputs)\n",
    " conv2 = Conv2D(n, 3, activation = 'relu', padding = 'same' )(conv2)\n",
    " pool2 = MaxPooling2D(pool_size=(2, 2))(conv2) #16x16\n",
    " conv3 = Conv2D(2*n, 3, activation = 'relu', padding = 'same' )(pool2) #16x16\n",
    " conv3 = Conv2D(2*n, 3, activation = 'relu', padding = 'same' )(conv3)\n",
    " pool3 = MaxPooling2D(pool_size=(2, 2))(conv3) #8x8\n",
    " conv4 = Conv2D(4*n, 3, activation = 'relu', padding = 'same' )(pool3) #8x8\n",
    " conv4 = Conv2D(4*n, 3, activation = 'relu', padding = 'same' )(conv4)\n",
    " pool4 = MaxPooling2D(pool_size=(2, 2))(conv4) #4x4\n",
    " conv5 = Conv2D(8*n, 3, activation = 'relu', padding = 'same' )(pool4) #4x4\n",
    " conv5 = Conv2D(8*n, 3, activation = 'relu', padding = 'same' )(conv5) #4x4\n",
    " up6 = Conv2D(4*n, 2, activation = 'relu', padding = 'same'\n",
    " )(UpSampling2D(size = (2,2))(conv5)) #8x8\n",
    " #merge6 = concatenate([conv4,up6], axis = 3) #8x8\n",
    " conv6 = Conv2D(4*n, 3, activation = 'relu', padding = 'same' )(up6)\n",
    " conv6 = Conv2D(4*n, 3, activation = 'relu', padding = 'same' )(conv6) #8x8\n",
    " up7 = Conv2D(2*n, 2, activation = 'relu', padding = 'same'\n",
    " )(UpSampling2D(size = (2,2))(conv6)) #16x16\n",
    " #merge7 = concatenate([conv3,up7], axis = 3)\n",
    " conv7 = Conv2D(2*n, 3, activation = 'relu', padding = 'same' )(up7)\n",
    " conv7 = Conv2D(2*n, 3, activation = 'relu', padding = 'same' )(conv7) #16x16\n",
    " up8 = Conv2D(n, 2, activation = 'relu', padding = 'same'\n",
    " )(UpSampling2D(size = (2,2))(conv7)) #32x32\n",
    " #merge8 = concatenate([conv2,up8], axis = 3)\n",
    " conv8 = Conv2D(n, 3, activation = 'relu', padding = 'same' )(up8)\n",
    " conv8 = Conv2D(n, 3, activation = 'relu', padding = 'same' )(conv8) #32x32\n",
    " conv9 = Conv2D(1, 1, activation = 'sigmoid', padding = 'same' )(conv8) #32x32\n",
    " model = Model(inputs = inputs, outputs = conv9)\n",
    " model.compile(optimizer = Adam(learning_rate=1e-3), loss = 'mean_squared_error')\n",
    " from tensorflow.keras.utils import plot_model\n",
    " plot_model(model, to_file='unet-train1.png', show_shapes=True)\n",
    " model.summary()\n",
    " return model\n",
    "#<<<<<<<<<<<<<<<<<<<< main <<<<<<<<<<<<<<<<<<<<<<<<<<<<<<\n",
    "bdDir = \".\"\n",
    "ax, ay = leCsv(bdDir,\"treino.csv\")\n",
    "vx, vy = leCsv(bdDir,\"valida.csv\")\n",
    "qx, qy = leCsv(bdDir,\"teste.csv\")\n",
    "outDir = \".\"; os.chdir(outDir)\n",
    "#Escolha entre comecar treino do zero ou continuar o treino de onde parou\n",
    "model=unet()\n",
    "#model = load_model(\"unet1.h5\");\n",
    "history=model.fit(ax, ay, batch_size=10, epochs=1000, verbose=2, validation_data=(vx,vy));\n",
    "impHistoria(history); #model.save(\"unet1.h5\");\n",
    "score = model.evaluate(ax, ay, verbose=0); print('Training loss:', score)\n",
    "score = model.evaluate(vx, vy, verbose=0); print('Validation loss:', score)\n",
    "score = model.evaluate(qx, qy, verbose=0); print('Test loss:', score)\n"
   ]
  }
 ],
 "metadata": {
  "kernelspec": {
   "display_name": "Python 3 (ipykernel)",
   "language": "python",
   "name": "python3"
  },
  "language_info": {
   "codemirror_mode": {
    "name": "ipython",
    "version": 3
   },
   "file_extension": ".py",
   "mimetype": "text/x-python",
   "name": "python",
   "nbconvert_exporter": "python",
   "pygments_lexer": "ipython3",
   "version": "3.10.6"
  },
  "vscode": {
   "interpreter": {
    "hash": "6a8e3ac7d4fea37a683a55fe3359e18659022e437e9e8e60b58f1978a4c532eb"
   }
  }
 },
 "nbformat": 4,
 "nbformat_minor": 2
}
